{
 "cells": [
  {
   "cell_type": "code",
   "execution_count": 2,
   "metadata": {},
   "outputs": [],
   "source": [
    "from citipy import citipy \n",
    "import requests as req\n",
    "from config import weather_api_key "
   ]
  },
  {
   "cell_type": "code",
   "execution_count": 3,
   "metadata": {},
   "outputs": [],
   "source": [
    "url=\"http://api.openweathermap.org/data/2.5/weather?units=Imperial&APPID=\" + weather_api_key"
   ]
  },
  {
   "cell_type": "code",
   "execution_count": 4,
   "metadata": {},
   "outputs": [],
   "source": [
    "cities= [\"Pittsburg\", \"Austin\", \"New  York\", \"Los Angeles\", \"Seattle\"]"
   ]
  },
  {
   "cell_type": "code",
   "execution_count": 8,
   "metadata": {},
   "outputs": [
    {
     "name": "stdout",
     "output_type": "stream",
     "text": [
      "it is currently 93.22 degrees in Pittsburg\n",
      "it is currently 87.39 degrees in Austin\n",
      "KeyError for New  York\n",
      "it is currently 77.94 degrees in Los Angeles\n",
      "it is currently 68.76 degrees in Seattle\n"
     ]
    }
   ],
   "source": [
    "for city in cities:\n",
    "    try:\n",
    "        city_url= url+ \"&q=\" + city\n",
    "        weather= req.get(city_url).json()\n",
    "        temp=weather['main']['temp']\n",
    "    except KeyError:\n",
    "        print('KeyError for '+ city)\n",
    "        continue \n",
    "    print(\"it is currently \" + str(temp) + \" degrees in \" + city)"
   ]
  },
  {
   "cell_type": "code",
   "execution_count": null,
   "metadata": {},
   "outputs": [],
   "source": []
  }
 ],
 "metadata": {
  "kernelspec": {
   "display_name": "PythonData",
   "language": "python",
   "name": "pythondata"
  },
  "language_info": {
   "codemirror_mode": {
    "name": "ipython",
    "version": 3
   },
   "file_extension": ".py",
   "mimetype": "text/x-python",
   "name": "python",
   "nbconvert_exporter": "python",
   "pygments_lexer": "ipython3",
   "version": "3.7.3"
  }
 },
 "nbformat": 4,
 "nbformat_minor": 2
}
